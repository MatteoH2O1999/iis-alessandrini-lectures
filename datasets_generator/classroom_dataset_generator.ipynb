{
 "cells": [
  {
   "cell_type": "code",
   "execution_count": 1,
   "id": "03deb042",
   "metadata": {},
   "outputs": [],
   "source": [
    "import pandas as pd\n",
    "import numpy as np\n",
    "\n",
    "from random_italian_person import RandomItalianPerson"
   ]
  },
  {
   "cell_type": "code",
   "execution_count": 2,
   "id": "37558bbf",
   "metadata": {},
   "outputs": [],
   "source": [
    "student_dataset = []"
   ]
  },
  {
   "cell_type": "code",
   "execution_count": 3,
   "id": "216fbd35",
   "metadata": {},
   "outputs": [],
   "source": [
    "def simulate_exam(students, mean, variation, subject, test_title, section):\n",
    "    for student in students:\n",
    "        mark = 0\n",
    "        while mark > 10 or mark < 1:\n",
    "            mark = np.random.normal(mean, variation)\n",
    "            if mark > 10:\n",
    "                mark = 10\n",
    "            if mark < 1:\n",
    "                mark = 1\n",
    "        student_dataset.append((student, section, subject, test_title, round(mark)))"
   ]
  },
  {
   "cell_type": "code",
   "execution_count": 4,
   "id": "38b43f91",
   "metadata": {},
   "outputs": [],
   "source": [
    "def get_random_name():\n",
    "    student = None\n",
    "    while student is None:\n",
    "        try:\n",
    "            student = RandomItalianPerson()\n",
    "        except ValueError:\n",
    "            pass\n",
    "    return f'{student.surname} {student.name}'\n",
    "\n",
    "def generate_class(number_of_students):\n",
    "    ret = []\n",
    "    for _ in range(number_of_students):\n",
    "        ret.append(get_random_name())\n",
    "    return ret"
   ]
  },
  {
   "cell_type": "code",
   "execution_count": 5,
   "id": "d7d1db26",
   "metadata": {},
   "outputs": [],
   "source": [
    "class_1 = generate_class(22)\n",
    "class_2 = generate_class(24)\n",
    "class_3 = generate_class(18)"
   ]
  },
  {
   "cell_type": "code",
   "execution_count": 6,
   "id": "a5db84c2",
   "metadata": {},
   "outputs": [],
   "source": [
    "simulate_exam(class_1, 6, 1, 'Matematica', 'Derivate', 'A')\n",
    "simulate_exam(class_2, 8, 1, 'Matematica', 'Derivate', 'B')\n",
    "simulate_exam(class_3, 7, 2, 'Matematica', 'Derivate', 'C')"
   ]
  },
  {
   "cell_type": "code",
   "execution_count": 7,
   "id": "4a82aead",
   "metadata": {},
   "outputs": [],
   "source": [
    "simulate_exam(class_1, 6, 1, 'Matematica', 'Integrali', 'A')\n",
    "simulate_exam(class_2, 8, 2, 'Matematica', 'Integrali', 'B')\n",
    "simulate_exam(class_3, 5, 3, 'Matematica', 'Integrali', 'C')"
   ]
  },
  {
   "cell_type": "code",
   "execution_count": 8,
   "id": "4ddcc467",
   "metadata": {},
   "outputs": [],
   "source": [
    "simulate_exam(class_1, 4, 2, 'Matematica', 'Analisi di funzione', 'A')\n",
    "simulate_exam(class_2, 7, 1, 'Matematica', 'Analisi di funzione', 'B')\n",
    "simulate_exam(class_3, 6, 3, 'Matematica', 'Analisi di funzione', 'C')"
   ]
  },
  {
   "cell_type": "code",
   "execution_count": 9,
   "id": "4efdefe4",
   "metadata": {},
   "outputs": [],
   "source": [
    "simulate_exam(class_1, 7, 1, 'Italiano', 'Pascoli', 'A')\n",
    "simulate_exam(class_2, 6, 3, 'Italiano', 'Pascoli', 'B')\n",
    "simulate_exam(class_3, 8, 1, 'Italiano', 'Pascoli', 'C')"
   ]
  },
  {
   "cell_type": "code",
   "execution_count": 10,
   "id": "4c32034a",
   "metadata": {},
   "outputs": [],
   "source": [
    "simulate_exam(class_1, 7, 2, 'Italiano', 'Dante', 'A')\n",
    "simulate_exam(class_2, 5, 2, 'Italiano', 'Dante', 'B')\n",
    "simulate_exam(class_3, 8, 1, 'Italiano', 'Dante', 'C')"
   ]
  },
  {
   "cell_type": "code",
   "execution_count": 11,
   "id": "d0164679",
   "metadata": {},
   "outputs": [],
   "source": [
    "simulate_exam(class_1, 8, 1, 'Italiano', 'Petrarca', 'A')\n",
    "simulate_exam(class_2, 6, 2, 'Italiano', 'Petrarca', 'B')\n",
    "simulate_exam(class_3, 6, 3, 'Italiano', 'Petrarca', 'C')"
   ]
  },
  {
   "cell_type": "code",
   "execution_count": 12,
   "id": "1d71f79f",
   "metadata": {},
   "outputs": [],
   "source": [
    "with open('../datasets/voti_classi.csv', 'w') as f:\n",
    "    f.write('Studente;Sezione;Materia;Argomento;Voto\\n')\n",
    "    for mark in student_dataset:\n",
    "        f.write(f'{mark[0]};{mark[1]};{mark[2]};{mark[3]};{mark[4]}\\n')"
   ]
  },
  {
   "cell_type": "code",
   "execution_count": null,
   "id": "987e39b3",
   "metadata": {},
   "outputs": [],
   "source": []
  }
 ],
 "metadata": {
  "kernelspec": {
   "display_name": "Python 3 (ipykernel)",
   "language": "python",
   "name": "python3"
  },
  "language_info": {
   "codemirror_mode": {
    "name": "ipython",
    "version": 3
   },
   "file_extension": ".py",
   "mimetype": "text/x-python",
   "name": "python",
   "nbconvert_exporter": "python",
   "pygments_lexer": "ipython3",
   "version": "3.9.7"
  }
 },
 "nbformat": 4,
 "nbformat_minor": 5
}
