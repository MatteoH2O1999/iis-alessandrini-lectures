{
 "cells": [
  {
   "cell_type": "code",
   "execution_count": 1,
   "id": "c84ec134",
   "metadata": {},
   "outputs": [],
   "source": [
    "import numpy as np\n",
    "\n",
    "from datetime import datetime\n",
    "from random_italian_person import RandomItalianPerson\n",
    "\n",
    "current_year = datetime.now().year"
   ]
  },
  {
   "cell_type": "code",
   "execution_count": 2,
   "id": "db3a2ee5",
   "metadata": {},
   "outputs": [],
   "source": [
    "def get_random_person():\n",
    "    student = None\n",
    "    while student is None:\n",
    "        try:\n",
    "            student = RandomItalianPerson()\n",
    "        except ValueError:\n",
    "            pass\n",
    "    return student\n",
    "\n",
    "def get_exam_duration(mean, dispersion, population):\n",
    "    ret = []\n",
    "    for _ in range(population):\n",
    "        duration = np.random.normal(mean, dispersion)\n",
    "        person = get_random_person()\n",
    "        # This is not sexism, just an example. Pls no flame ;)\n",
    "        if person.sex == 'F':\n",
    "            duration += 40\n",
    "        birth_year = int(person.birthdate.split('-')[0])\n",
    "        age = current_year - birth_year\n",
    "        if age > 50:\n",
    "            duration += 40\n",
    "        if duration < 0:\n",
    "            duration *= -1\n",
    "        duration = round(duration)\n",
    "        ret.append((f'{person.surname} {person.name}', person.sex, age, duration))\n",
    "    return ret"
   ]
  },
  {
   "cell_type": "code",
   "execution_count": 3,
   "id": "f1f961fd",
   "metadata": {},
   "outputs": [],
   "source": [
    "dataset = get_exam_duration(120, 60, 200)"
   ]
  },
  {
   "cell_type": "code",
   "execution_count": 4,
   "id": "6c126d94",
   "metadata": {},
   "outputs": [],
   "source": [
    "with open('../datasets/driving_license.csv', 'w') as f:\n",
    "    f.write('Studente;Sesso;Età;Tempo per prendere la patente in giorni\\n')\n",
    "    for data in dataset:\n",
    "        f.write(f'{data[0]};{data[1]};{data[2]};{data[3]}\\n')"
   ]
  },
  {
   "cell_type": "code",
   "execution_count": null,
   "id": "9433e98a",
   "metadata": {},
   "outputs": [],
   "source": []
  }
 ],
 "metadata": {
  "kernelspec": {
   "display_name": "Python 3 (ipykernel)",
   "language": "python",
   "name": "python3"
  },
  "language_info": {
   "codemirror_mode": {
    "name": "ipython",
    "version": 3
   },
   "file_extension": ".py",
   "mimetype": "text/x-python",
   "name": "python",
   "nbconvert_exporter": "python",
   "pygments_lexer": "ipython3",
   "version": "3.9.7"
  }
 },
 "nbformat": 4,
 "nbformat_minor": 5
}
