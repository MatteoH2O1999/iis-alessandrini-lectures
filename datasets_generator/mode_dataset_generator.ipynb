{
 "cells": [
  {
   "cell_type": "code",
   "execution_count": 1,
   "id": "b60ba006",
   "metadata": {},
   "outputs": [],
   "source": [
    "import matplotlib.pyplot as plt\n",
    "import numpy as np\n",
    "import seaborn as sns\n",
    "%matplotlib inline"
   ]
  },
  {
   "cell_type": "code",
   "execution_count": 2,
   "id": "cfff92ea",
   "metadata": {},
   "outputs": [],
   "source": [
    "distribution = []\n",
    "for _ in range(100_000):\n",
    "    distribution.append(np.random.normal(60, 7))\n",
    "for _ in range(70_000):\n",
    "    distribution.append(np.random.normal(45, 10))\n",
    "for _ in range(50_000):\n",
    "    distribution.append(np.random.normal(18, 4))\n",
    "distribution = np.array(distribution, dtype=int)\n",
    "distribution = np.abs(distribution)"
   ]
  },
  {
   "cell_type": "code",
   "execution_count": 3,
   "id": "ea2bc72c",
   "metadata": {},
   "outputs": [
    {
     "data": {
      "image/png": "[encoded data removed]",
      "text/plain": [
       "<Figure size 432x288 with 1 Axes>"
      ]
     },
     "metadata": {
      "needs_background": "light"
     },
     "output_type": "display_data"
    }
   ],
   "source": [
    "sns.histplot(data=distribution, binwidth=1)\n",
    "plt.show()"
   ]
  },
  {
   "cell_type": "code",
   "execution_count": 4,
   "id": "6611ce87",
   "metadata": {},
   "outputs": [],
   "source": [
    "with open('../datasets/eta_sanremo.csv', 'w') as f:\n",
    "    f.write('Età;Genere\\n')\n",
    "    for age in distribution:\n",
    "        if np.random.rand() > 0.75:\n",
    "            f.write(f'{age};M\\n')\n",
    "        else:\n",
    "            f.write(f'{age};F\\n')"
   ]
  }
 ],
 "metadata": {
  "kernelspec": {
   "display_name": "Python 3 (ipykernel)",
   "language": "python",
   "name": "python3"
  },
  "language_info": {
   "codemirror_mode": {
    "name": "ipython",
    "version": 3
   },
   "file_extension": ".py",
   "mimetype": "text/x-python",
   "name": "python",
   "nbconvert_exporter": "python",
   "pygments_lexer": "ipython3",
   "version": "3.9.7"
  }
 },
 "nbformat": 4,
 "nbformat_minor": 5
}
