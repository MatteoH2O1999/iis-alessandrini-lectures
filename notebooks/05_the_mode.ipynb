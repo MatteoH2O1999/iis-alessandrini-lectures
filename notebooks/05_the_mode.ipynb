{
 "cells": [
  {
   "cell_type": "markdown",
   "id": "0959a1bd",
   "metadata": {},
   "source": [
    "*Se stai utilizzando Google Colab, esegui le celle sottostanti per inizializzare la macchina.*"
   ]
  },
  {
   "cell_type": "code",
   "execution_count": null,
   "id": "4ddfedbc",
   "metadata": {},
   "outputs": [],
   "source": [
    "!git clone https://github.com/MatteoH2O1999/iis-alessandrini-lectures.git\n",
    "!pip install -r ./iis-alessandrini-lectures/requirements.txt\n",
    "%cd ./iis-alessandrini-lectures/notebooks"
   ]
  },
  {
   "cell_type": "code",
   "execution_count": 8,
   "id": "3b468c05",
   "metadata": {},
   "outputs": [],
   "source": [
    "import pandas as pd\n",
    "import numpy as np\n",
    "import matplotlib.pyplot as plt\n",
    "import seaborn as sns\n",
    "\n",
    "from scipy import stats\n",
    "\n",
    "sns.set_theme()\n",
    "sns.set_context('talk')"
   ]
  },
  {
   "cell_type": "markdown",
   "id": "dd137028",
   "metadata": {},
   "source": [
    "# La Moda"
   ]
  },
  {
   "cell_type": "markdown",
   "id": "a782cc39",
   "metadata": {},
   "source": [
    "Mediana e media hanno però una grande limitazione: indicano i valori di \"equilibrio\". Per comprendere appieno un campione di dati si deve aggiungere un ultimo indicatore: la moda. Tra gli indicatori di base è il più semplice: la moda assume il valore che appare nel campione con maggiore frequenza."
   ]
  },
  {
   "cell_type": "markdown",
   "id": "d194bfab",
   "metadata": {},
   "source": [
    "Un semplice esempio:"
   ]
  },
  {
   "cell_type": "code",
   "execution_count": 14,
   "id": "a123fb40",
   "metadata": {},
   "outputs": [
    {
     "name": "stdout",
     "output_type": "stream",
     "text": [
      "[0, 1, 2, 3, 4, 5, 5, 6, 7, 8, 9, 10, 11, 12, 13, 14, 15, 16, 17, 18, 19, 20, 21, 22, 23, 24, 25, 26, 27, 28, 29]\n"
     ]
    }
   ],
   "source": [
    "example_list = [5] + [i for i in range(30)]\n",
    "example_list.sort()\n",
    "print(example_list)"
   ]
  },
  {
   "cell_type": "code",
   "execution_count": 15,
   "id": "0170c323",
   "metadata": {},
   "outputs": [
    {
     "data": {
      "text/plain": [
       "5"
      ]
     },
     "execution_count": 15,
     "metadata": {},
     "output_type": "execute_result"
    }
   ],
   "source": [
    "stats.mode(example_list).mode[0]"
   ]
  }
 ],
 "metadata": {
  "kernelspec": {
   "display_name": "Python 3 (ipykernel)",
   "language": "python",
   "name": "python3"
  },
  "language_info": {
   "codemirror_mode": {
    "name": "ipython",
    "version": 3
   },
   "file_extension": ".py",
   "mimetype": "text/x-python",
   "name": "python",
   "nbconvert_exporter": "python",
   "pygments_lexer": "ipython3",
   "version": "3.10.4"
  }
 },
 "nbformat": 4,
 "nbformat_minor": 5
}
