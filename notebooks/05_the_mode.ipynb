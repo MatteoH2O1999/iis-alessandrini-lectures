{
 "cells": [
  {
   "cell_type": "markdown",
   "id": "0959a1bd",
   "metadata": {},
   "source": [
    "*Se stai utilizzando Google Colab, esegui le celle sottostanti per inizializzare la macchina.*"
   ]
  },
  {
   "cell_type": "code",
   "execution_count": null,
   "id": "4ddfedbc",
   "metadata": {},
   "outputs": [],
   "source": [
    "!git clone https://github.com/MatteoH2O1999/iis-alessandrini-lectures.git\n",
    "!pip install -r ./iis-alessandrini-lectures/requirements.txt\n",
    "%cd ./iis-alessandrini-lectures/notebooks"
   ]
  },
  {
   "cell_type": "code",
   "execution_count": null,
   "id": "3b468c05",
   "metadata": {},
   "outputs": [],
   "source": [
    "import pandas as pd\n",
    "import numpy as np\n",
    "import matplotlib.pyplot as plt\n",
    "import seaborn as sns\n",
    "\n",
    "from scipy import stats\n",
    "\n",
    "sns.set_theme()\n",
    "sns.set_context('talk')"
   ]
  },
  {
   "cell_type": "markdown",
   "id": "dd137028",
   "metadata": {},
   "source": [
    "# La Moda"
   ]
  },
  {
   "cell_type": "markdown",
   "id": "a782cc39",
   "metadata": {},
   "source": [
    "Mediana e media hanno però una grande limitazione: indicano i valori di \"equilibrio\", ma nessuno dei due fornisce alcuna indicazione su dove siano concentrati la maggior parte dei dati. Per comprendere appieno un campione di dati si deve aggiungere un ultimo indicatore: la moda. Tra gli indicatori di base è il più semplice: la moda assume il valore che appare nel campione con maggiore frequenza."
   ]
  },
  {
   "cell_type": "markdown",
   "id": "d194bfab",
   "metadata": {},
   "source": [
    "Un semplice esempio:"
   ]
  },
  {
   "cell_type": "code",
   "execution_count": null,
   "id": "a123fb40",
   "metadata": {},
   "outputs": [],
   "source": [
    "example_list = [5] + [i for i in range(30)]\n",
    "example_list.sort()\n",
    "print(example_list)"
   ]
  },
  {
   "cell_type": "code",
   "execution_count": null,
   "id": "0170c323",
   "metadata": {},
   "outputs": [],
   "source": [
    "stats.mode(example_list).mode[0]"
   ]
  },
  {
   "cell_type": "markdown",
   "id": "d9321c29",
   "metadata": {},
   "source": [
    "Vediamo ora un dataset di esempio."
   ]
  },
  {
   "cell_type": "code",
   "execution_count": null,
   "id": "f7058bf2",
   "metadata": {},
   "outputs": [],
   "source": [
    "df = pd.read_csv('../datasets/eta_sanremo.csv', sep=';')\n",
    "df.sample(5)"
   ]
  },
  {
   "cell_type": "markdown",
   "id": "fd9f43c4",
   "metadata": {},
   "source": [
    "Vogliamo analizzare l'età degli spettatori di Sanremo per decidere il target delle pubblicità. Cominciamo calcolando media e mediana."
   ]
  },
  {
   "cell_type": "code",
   "execution_count": null,
   "id": "0c3db855",
   "metadata": {},
   "outputs": [],
   "source": [
    "np.mean(df['Età'])"
   ]
  },
  {
   "cell_type": "code",
   "execution_count": null,
   "id": "0f3ec42d",
   "metadata": {},
   "outputs": [],
   "source": [
    "np.median(df['Età'])"
   ]
  },
  {
   "cell_type": "markdown",
   "id": "626dcf28",
   "metadata": {},
   "source": [
    "Da questa evidenza si potrebbe dire che il pubblico di Sanremo sia composto in prevalenza da 40-enni e 50-enni. Ma è davvero così?"
   ]
  },
  {
   "cell_type": "markdown",
   "id": "7e37796c",
   "metadata": {},
   "source": [
    "Proviamo a plottare i dati con un istogramma per avere un'informazione qualitativa."
   ]
  },
  {
   "cell_type": "code",
   "execution_count": null,
   "id": "a34e3d42",
   "metadata": {},
   "outputs": [],
   "source": [
    "plt.figure(figsize=(16, 9))\n",
    "sns.histplot(data=df, x='Età', binwidth=1)\n",
    "plt.show()"
   ]
  },
  {
   "cell_type": "markdown",
   "id": "1412d410",
   "metadata": {},
   "source": [
    "Ops, sembra che il target delle pubblicità dovrebbero essere i 60-enni più che i 40-enni. Ma come possiamo dimostrare ciò in modo quantitativo? Semplice: la moda. In generale, le pubblicità vengono sempre indirizzate alla moda della popolazione.\n",
    "\n",
    "Spunto di riflessione: cosa succede indirizzando tutta le pubblicità alla moda della popolazione?"
   ]
  },
  {
   "cell_type": "code",
   "execution_count": null,
   "id": "8d3e6279",
   "metadata": {},
   "outputs": [],
   "source": [
    "stats.mode(df['Età']).mode[0]"
   ]
  }
 ],
 "metadata": {
  "kernelspec": {
   "display_name": "Python 3 (ipykernel)",
   "language": "python",
   "name": "python3"
  },
  "language_info": {
   "codemirror_mode": {
    "name": "ipython",
    "version": 3
   },
   "file_extension": ".py",
   "mimetype": "text/x-python",
   "name": "python",
   "nbconvert_exporter": "python",
   "pygments_lexer": "ipython3",
   "version": "3.9.7"
  }
 },
 "nbformat": 4,
 "nbformat_minor": 5
}
