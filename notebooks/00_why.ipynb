{
 "cells": [
  {
   "cell_type": "markdown",
   "id": "32c433db",
   "metadata": {},
   "source": [
    "*Se stai utilizzando Google Colab, esegui le celle sottostanti per inizializzare la macchina.*"
   ]
  },
  {
   "cell_type": "code",
   "execution_count": null,
   "id": "e4df016f",
   "metadata": {},
   "outputs": [],
   "source": [
    "!git clone https://github.com/MatteoH2O1999/iis-alessandrini-lectures.git\n",
    "!pip install -r ./iis-alessandrini-lectures/requirements.txt\n",
    "%cd ./iis-alessandrini-lectures/notebooks"
   ]
  },
  {
   "cell_type": "code",
   "execution_count": null,
   "id": "4edd2466",
   "metadata": {},
   "outputs": [],
   "source": [
    "import pandas as pd\n",
    "import numpy as np\n",
    "import matplotlib.pyplot as plt\n",
    "import matplotlib.ticker as mtick\n",
    "import seaborn as sns\n",
    "\n",
    "sns.set_theme()\n",
    "sns.set_context('talk')"
   ]
  },
  {
   "cell_type": "markdown",
   "id": "132e37e2",
   "metadata": {},
   "source": [
    "# Perché studiare statistica e analisi dei dati?"
   ]
  },
  {
   "cell_type": "markdown",
   "id": "616b2605",
   "metadata": {},
   "source": [
    "Cerchiamo di togliere l'ideologia dall'analisi della realtà."
   ]
  },
  {
   "cell_type": "markdown",
   "id": "804069f9",
   "metadata": {},
   "source": [
    "## Delitti violenti"
   ]
  },
  {
   "cell_type": "markdown",
   "id": "0d914c7d",
   "metadata": {},
   "source": [
    "### Chi subisce più spesso crimini di \"percosse\"? Uomini o donne?"
   ]
  },
  {
   "cell_type": "code",
   "execution_count": null,
   "id": "7c36f636",
   "metadata": {},
   "outputs": [],
   "source": [
    "# Link dataset: http://dati-violenzadonne.istat.it/\n",
    "# Sezione: Autori e vittime dei delitti denunciati dalle forze di polizia all'autorità giudiziaria: Delitti violenti, sesso, età - reg.\n",
    "\n",
    "df = pd.read_csv('../datasets/violenze.csv')\n",
    "df"
   ]
  },
  {
   "cell_type": "markdown",
   "id": "6d4ef0a1",
   "metadata": {},
   "source": [
    "Prendiamo i dati nazionali"
   ]
  },
  {
   "cell_type": "code",
   "execution_count": null,
   "id": "8d498222",
   "metadata": {},
   "outputs": [],
   "source": [
    "df = df.loc[df['Territorio'] == 'Italia']\n",
    "df"
   ]
  },
  {
   "cell_type": "markdown",
   "id": "0ae76149",
   "metadata": {},
   "source": [
    "Prendiamo solo i dati delle vittime, escludendo i numeri dei denunciati/arrestati per quel delitto"
   ]
  },
  {
   "cell_type": "code",
   "execution_count": null,
   "id": "57989981",
   "metadata": {},
   "outputs": [],
   "source": [
    "df = df.loc[df['Tipo dato'] == 'numero di vittime di delitto']\n",
    "df"
   ]
  },
  {
   "cell_type": "markdown",
   "id": "764f3b4b",
   "metadata": {},
   "source": [
    "E prendiamo infine il numero totale, escludendo l'età."
   ]
  },
  {
   "cell_type": "code",
   "execution_count": null,
   "id": "e03a0f04",
   "metadata": {
    "scrolled": false
   },
   "outputs": [],
   "source": [
    "df = df.loc[df['Classe di età'] == 'totale']\n",
    "df"
   ]
  },
  {
   "cell_type": "code",
   "execution_count": null,
   "id": "9d22ea44",
   "metadata": {},
   "outputs": [],
   "source": [
    "df = df.sort_values('Sesso', ascending=False)"
   ]
  },
  {
   "cell_type": "markdown",
   "id": "f72741aa",
   "metadata": {},
   "source": [
    "Plottiamo ora un grafico per avere una visione qualitativa. I diversi anni daranno l'intervallo di confidenza."
   ]
  },
  {
   "cell_type": "code",
   "execution_count": null,
   "id": "7fd62a92",
   "metadata": {},
   "outputs": [],
   "source": [
    "plt.figure(figsize=(16, 9))\n",
    "sns.barplot(data=df, x='Tipo di delitto', hue='Sesso', y='Value')\n",
    "plt.show()"
   ]
  },
  {
   "cell_type": "markdown",
   "id": "dec2e3eb",
   "metadata": {},
   "source": [
    "Plottiamo ora i grafici per anno delle vittime di percosse"
   ]
  },
  {
   "cell_type": "code",
   "execution_count": null,
   "id": "c32f1e30",
   "metadata": {
    "scrolled": true
   },
   "outputs": [],
   "source": [
    "percosse = df.loc[df['Tipo di delitto'] == 'percosse']\n",
    "years = list(set(percosse['Seleziona periodo']))\n",
    "years.sort()\n",
    "for year in years:\n",
    "    tmp = percosse.loc[percosse['Seleziona periodo'] == year]\n",
    "    plt.figure(figsize=(16, 9))\n",
    "    sns.barplot(data=tmp, x='Tipo di delitto', hue='Sesso', y='Value')\n",
    "    plt.xlabel(\"\")\n",
    "    plt.xticks([])\n",
    "    plt.title(f\"Vittime di percosse nel {year}\")\n",
    "    plt.ylim(0, 9000)\n",
    "    plt.show()"
   ]
  },
  {
   "cell_type": "markdown",
   "id": "74409d1f",
   "metadata": {},
   "source": [
    "### Chi è più spesso vittima di omicidio? Uomini o donne?"
   ]
  },
  {
   "cell_type": "markdown",
   "id": "ca9b0b25",
   "metadata": {},
   "source": [
    "Eseguendo lo stesso processo precedente"
   ]
  },
  {
   "cell_type": "code",
   "execution_count": null,
   "id": "b98038e1",
   "metadata": {
    "scrolled": true
   },
   "outputs": [],
   "source": [
    "omicidi = df.loc[df['Tipo di delitto'] == 'omicidi volontari consumati']\n",
    "years = list(set(omicidi['Seleziona periodo']))\n",
    "years.sort()\n",
    "for year in years:\n",
    "    tmp = omicidi.loc[omicidi['Seleziona periodo'] == year]\n",
    "    plt.figure(figsize=(16, 9))\n",
    "    sns.barplot(data=tmp, x='Tipo di delitto', hue='Sesso', y='Value')\n",
    "    plt.xlabel(\"\")\n",
    "    plt.xticks([])\n",
    "    plt.title(f\"Vittime di omicidio volontario nel {year}\")\n",
    "    plt.ylim(0, 500)\n",
    "    plt.show()"
   ]
  },
  {
   "cell_type": "markdown",
   "id": "9c0caed2",
   "metadata": {},
   "source": [
    "### Ma allora sto femminismo si aggrappa a nulla?"
   ]
  },
  {
   "cell_type": "markdown",
   "id": "08a03cd5",
   "metadata": {},
   "source": [
    "Non proprio. Andiamo a vedere i dati per stalking e violenze di tipo sessuale"
   ]
  },
  {
   "cell_type": "code",
   "execution_count": null,
   "id": "28cd1897",
   "metadata": {
    "scrolled": true
   },
   "outputs": [],
   "source": [
    "delitti_sessuali = df.loc[(df['Tipo di delitto'] == 'stalking') | (df['Tipo di delitto'] == 'violenze sessuali')]\n",
    "years = list(set(delitti_sessuali['Seleziona periodo']))\n",
    "years.sort()\n",
    "for year in years:\n",
    "    tmp = delitti_sessuali.loc[delitti_sessuali['Seleziona periodo'] == year]\n",
    "    plt.figure(figsize=(16, 9))\n",
    "    sns.barplot(data=tmp, x='Tipo di delitto', hue='Sesso', y='Value')\n",
    "    plt.title(f\"Vittime di violenze sessuali e stalking nel {year}\")\n",
    "    plt.ylim(0, 13000)\n",
    "    plt.show()"
   ]
  },
  {
   "cell_type": "markdown",
   "id": "99d9f2cd",
   "metadata": {},
   "source": [
    "La situazione direi che è peggiorata molto sull fattore stalking mentre è rimasta pressoché invariata sul fronte violenze."
   ]
  },
  {
   "cell_type": "markdown",
   "id": "2072ff01",
   "metadata": {},
   "source": [
    "## Quanto è grande effettivamente il gender pay gap in Italia?"
   ]
  },
  {
   "cell_type": "code",
   "execution_count": null,
   "id": "bb33d185",
   "metadata": {},
   "outputs": [],
   "source": [
    "# Link dataset: http://dati.istat.it/\n",
    "# Sezione: Lavoro e retribuzioni -> Occupazione dipendente e retribuzioni -> Retribuzioni orarie dei dipendenti del settore privato -> Classe di età\n",
    "\n",
    "df = pd.read_csv('../datasets/paga_oraria.csv')\n",
    "df"
   ]
  },
  {
   "cell_type": "markdown",
   "id": "ab8c8e8f",
   "metadata": {},
   "source": [
    "Rimuoviamo le colonne inutili"
   ]
  },
  {
   "cell_type": "code",
   "execution_count": null,
   "id": "d08b0a44",
   "metadata": {},
   "outputs": [],
   "source": [
    "df = df.drop(columns=['Territorio', 'Qualifica contrattuale', 'Ateco 2007', 'Classe di dipendenti', 'Flags'])\n",
    "df"
   ]
  },
  {
   "cell_type": "markdown",
   "id": "8610e612",
   "metadata": {},
   "source": [
    "Selezioniamo soltanto la mediana"
   ]
  },
  {
   "cell_type": "code",
   "execution_count": null,
   "id": "e452de53",
   "metadata": {},
   "outputs": [],
   "source": [
    "df = df.loc[df['Tipo dato'] == 'Retribuzione lorda  oraria per ora retribuita delle posizioni lavorative dipendenti in euro (mediana).']\n",
    "df"
   ]
  },
  {
   "cell_type": "markdown",
   "id": "63ee9c2d",
   "metadata": {},
   "source": [
    "Proviamo a vedere quanto è ampio il gender pay gap in italia senza considerare le età"
   ]
  },
  {
   "cell_type": "markdown",
   "id": "2f6399ea",
   "metadata": {},
   "source": [
    "Isoliamo i dati che ci serviranno"
   ]
  },
  {
   "cell_type": "code",
   "execution_count": null,
   "id": "ffa50ed0",
   "metadata": {},
   "outputs": [],
   "source": [
    "total_data = df.loc[df['Classe di età'] == 'totale']\n",
    "total_data"
   ]
  },
  {
   "cell_type": "markdown",
   "id": "0dc3df6c",
   "metadata": {},
   "source": [
    "Ora calcoliamo di anno in anno quanto è esteso il gender pay gap"
   ]
  },
  {
   "cell_type": "code",
   "execution_count": null,
   "id": "8a008d3b",
   "metadata": {},
   "outputs": [],
   "source": [
    "years = list(set(total_data['Seleziona periodo']))\n",
    "years.sort()\n",
    "gap = []\n",
    "for year in years:\n",
    "    tmp = total_data.loc[total_data['Seleziona periodo'] == year]\n",
    "    gap.append((tmp[tmp.Sesso == 'femmine'].Value.item() / tmp[tmp.Sesso == 'maschi'].Value.item()) * 100)\n",
    "gap"
   ]
  },
  {
   "cell_type": "markdown",
   "id": "08c74a04",
   "metadata": {},
   "source": [
    "Proviamo a plottarlo"
   ]
  },
  {
   "cell_type": "code",
   "execution_count": null,
   "id": "4bd7478c",
   "metadata": {},
   "outputs": [],
   "source": [
    "plt.figure(figsize=(16, 9))\n",
    "sns.lineplot(x=years, y=gap)\n",
    "plt.ylim(0, 101)\n",
    "plt.title(\"Percentuale dello stipendio maschile orario medio guadagnato in media da una donna\")\n",
    "plt.xlabel(\"Anno\")\n",
    "plt.gca().yaxis.set_major_formatter(mtick.PercentFormatter())\n",
    "plt.show()"
   ]
  },
  {
   "cell_type": "markdown",
   "id": "7cf70e98",
   "metadata": {},
   "source": [
    "Proviamo a restringere l'asse y"
   ]
  },
  {
   "cell_type": "code",
   "execution_count": null,
   "id": "772a80f8",
   "metadata": {},
   "outputs": [],
   "source": [
    "plt.figure(figsize=(16, 9))\n",
    "sns.lineplot(x=years, y=gap)\n",
    "plt.ylim(85, 95)\n",
    "plt.title(\"Percentuale dello stipendio maschile orario medio guadagnato in media da una donna\")\n",
    "plt.xlabel(\"Anno\")\n",
    "plt.gca().yaxis.set_major_formatter(mtick.PercentFormatter())\n",
    "plt.show()"
   ]
  },
  {
   "cell_type": "markdown",
   "id": "ad00b5bf",
   "metadata": {},
   "source": [
    "### Quali possono essere le cause di questa disparità?"
   ]
  },
  {
   "cell_type": "markdown",
   "id": "fd4b7997",
   "metadata": {},
   "source": [
    "Iniziamo ristrutturando i dati in modo da avere le percentuali già pronte"
   ]
  },
  {
   "cell_type": "code",
   "execution_count": null,
   "id": "b6dd6492",
   "metadata": {},
   "outputs": [],
   "source": [
    "age_classes = set(df['Classe di età'])\n",
    "age_classes"
   ]
  },
  {
   "cell_type": "code",
   "execution_count": null,
   "id": "1fe73249",
   "metadata": {},
   "outputs": [],
   "source": [
    "years"
   ]
  },
  {
   "cell_type": "code",
   "execution_count": null,
   "id": "5b8ca8fb",
   "metadata": {},
   "outputs": [],
   "source": [
    "new_df = {'Classe di età': [], 'Seleziona periodo': [], 'Gender pay gap in percentuale': []}\n",
    "for age_class in age_classes:\n",
    "    for year in years:\n",
    "        tmp = df.loc[(df['Classe di età'] == age_class) & (df['Seleziona periodo'] == year)]\n",
    "        male_retr = tmp[tmp.Sesso == 'maschi'].Value.item()\n",
    "        female_retr = tmp[tmp.Sesso == 'femmine'].Value.item()\n",
    "        new_df['Classe di età'].append(age_class)\n",
    "        new_df['Seleziona periodo'].append(year)\n",
    "        new_df['Gender pay gap in percentuale'].append((female_retr / male_retr) * 100)\n",
    "new_df = pd.DataFrame.from_dict(new_df)\n",
    "new_df"
   ]
  },
  {
   "cell_type": "markdown",
   "id": "da302923",
   "metadata": {},
   "source": [
    "Plottiamo il gender pay gap in relazione all'età"
   ]
  },
  {
   "cell_type": "code",
   "execution_count": null,
   "id": "5c6fab61",
   "metadata": {},
   "outputs": [],
   "source": [
    "plt.figure(figsize=(16, 9))\n",
    "sns.lineplot(data=new_df, x='Seleziona periodo', y='Gender pay gap in percentuale', hue='Classe di età')\n",
    "plt.title(\"Gender pay gap in Italia diviso per classi di età\")\n",
    "plt.gca().yaxis.set_major_formatter(mtick.PercentFormatter())\n",
    "plt.show()"
   ]
  },
  {
   "cell_type": "markdown",
   "id": "f8d80349",
   "metadata": {},
   "source": [
    "Sembra che l'età influisca sulla differenza. Proviamo a plottare come varia il gap con l'età"
   ]
  },
  {
   "cell_type": "code",
   "execution_count": null,
   "id": "8cfeab03",
   "metadata": {},
   "outputs": [],
   "source": [
    "df_no_total = new_df.loc[new_df['Classe di età'] != 'totale']\n",
    "df_no_total"
   ]
  },
  {
   "cell_type": "code",
   "execution_count": null,
   "id": "efec6fa5",
   "metadata": {},
   "outputs": [],
   "source": [
    "plt.figure(figsize=(16, 9))\n",
    "sns.lineplot(data=df_no_total.sort_values('Classe di età'), x='Classe di età', y='Gender pay gap in percentuale', hue='Seleziona periodo')\n",
    "plt.title(\"Gender pay gap in Italia diviso per anno\")\n",
    "plt.gca().yaxis.set_major_formatter(mtick.PercentFormatter())\n",
    "plt.show()"
   ]
  }
 ],
 "metadata": {
  "kernelspec": {
   "display_name": "Python 3 (ipykernel)",
   "language": "python",
   "name": "python3"
  },
  "language_info": {
   "codemirror_mode": {
    "name": "ipython",
    "version": 3
   },
   "file_extension": ".py",
   "mimetype": "text/x-python",
   "name": "python",
   "nbconvert_exporter": "python",
   "pygments_lexer": "ipython3",
   "version": "3.9.7"
  }
 },
 "nbformat": 4,
 "nbformat_minor": 5
}
