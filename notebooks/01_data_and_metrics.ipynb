{
 "cells": [
  {
   "cell_type": "markdown",
   "id": "cc8b718d",
   "metadata": {},
   "source": [
    "*Se stai utilizzando Google Colab, esegui le celle sottostanti per inizializzare la macchina.*"
   ]
  },
  {
   "cell_type": "code",
   "execution_count": null,
   "id": "f7a1423d",
   "metadata": {},
   "outputs": [],
   "source": [
    "!git clone https://github.com/MatteoH2O1999/iis-alessandrini-lectures.git\n",
    "!pip install -r ./iis-alessandrini-lectures/requirements.txt\n",
    "%cd ./iis-alessandrini-lectures/notebooks"
   ]
  },
  {
   "cell_type": "code",
   "execution_count": null,
   "id": "222c9174",
   "metadata": {},
   "outputs": [],
   "source": [
    "import pandas as pd\n",
    "import numpy as np\n",
    "import matplotlib.pyplot as plt\n",
    "import seaborn as sns\n",
    "\n",
    "sns.set_theme()\n",
    "sns.set_context('talk')"
   ]
  },
  {
   "cell_type": "markdown",
   "id": "624bbef1",
   "metadata": {},
   "source": [
    "# I Dati"
   ]
  },
  {
   "cell_type": "markdown",
   "id": "deb42565",
   "metadata": {},
   "source": [
    "## Cosa sono i dati grezzi?"
   ]
  },
  {
   "cell_type": "markdown",
   "id": "d4aeee76",
   "metadata": {},
   "source": [
    "Il dato grezzo è la singola rilevazione effettuata per l'analisi statistica nella forma originale, senza operazioni di *polishing* o di aggregazione."
   ]
  },
  {
   "cell_type": "code",
   "execution_count": null,
   "id": "d40d2313",
   "metadata": {},
   "outputs": [],
   "source": [
    "df = pd.read_csv('../datasets/voti_classi.csv', sep=';')"
   ]
  },
  {
   "cell_type": "code",
   "execution_count": null,
   "id": "4c4cb1a7",
   "metadata": {},
   "outputs": [],
   "source": [
    "df.sample(5)"
   ]
  },
  {
   "cell_type": "markdown",
   "id": "1e576f5e",
   "metadata": {},
   "source": [
    "## Cosa sono i dati aggregati?"
   ]
  },
  {
   "cell_type": "markdown",
   "id": "0b459e8f",
   "metadata": {},
   "source": [
    "I dati aggregati sono prodotti a partire dai dati grezzi o da altri dati aggregati. Forniscono informazioni più facilmente interpretabili al costo di una perdita di dettaglio."
   ]
  },
  {
   "cell_type": "markdown",
   "id": "8ceaf428",
   "metadata": {},
   "source": [
    "### Dati aggregati quantitativi"
   ]
  },
  {
   "cell_type": "markdown",
   "id": "d08bc5e1",
   "metadata": {},
   "source": [
    "I dati aggregati quantitativi forniscono informazioni attraverso, ad esempio, degli indici numerici, che quindi possono essere ulteriormente manipolati. Esempio: somma di tutti i voti."
   ]
  },
  {
   "cell_type": "code",
   "execution_count": null,
   "id": "f00b495b",
   "metadata": {},
   "outputs": [],
   "source": [
    "voti = df['Voto'].to_list()\n",
    "somma_voti = sum(voti)\n",
    "somma_voti"
   ]
  },
  {
   "cell_type": "markdown",
   "id": "71551a53",
   "metadata": {},
   "source": [
    "### Dati aggregati qualitativi"
   ]
  },
  {
   "cell_type": "markdown",
   "id": "504caa4f",
   "metadata": {},
   "source": [
    "I dati aggregati qualitativi forniscono informazioni soprattutto sotto forma di grafici. Ad esempio si può pensare ad un istogramma per le frequenze dei voti."
   ]
  },
  {
   "cell_type": "code",
   "execution_count": null,
   "id": "3780cc94",
   "metadata": {},
   "outputs": [],
   "source": [
    "plt.figure(figsize=(16, 9))\n",
    "sns.countplot(data=df, x='Voto')\n",
    "plt.show()"
   ]
  }
 ],
 "metadata": {
  "kernelspec": {
   "display_name": "Python 3 (ipykernel)",
   "language": "python",
   "name": "python3"
  },
  "language_info": {
   "codemirror_mode": {
    "name": "ipython",
    "version": 3
   },
   "file_extension": ".py",
   "mimetype": "text/x-python",
   "name": "python",
   "nbconvert_exporter": "python",
   "pygments_lexer": "ipython3",
   "version": "3.9.7"
  }
 },
 "nbformat": 4,
 "nbformat_minor": 5
}
