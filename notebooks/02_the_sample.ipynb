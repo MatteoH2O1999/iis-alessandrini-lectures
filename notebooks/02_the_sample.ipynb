{
 "cells": [
  {
   "cell_type": "markdown",
   "id": "9378fe4c",
   "metadata": {},
   "source": [
    "*Se stai utilizzando Google Colab, esegui le celle sottostanti per inizializzare la macchina.*"
   ]
  },
  {
   "cell_type": "code",
   "execution_count": null,
   "id": "4d84a5c8",
   "metadata": {},
   "outputs": [],
   "source": [
    "!git clone https://github.com/MatteoH2O1999/iis-alessandrini-lectures.git\n",
    "!pip install -r ./iis-alessandrini-lectures/requirements.txt\n",
    "%cd ./iis-alessandrini-lectures/notebooks"
   ]
  },
  {
   "cell_type": "code",
   "execution_count": null,
   "id": "e9c6582b",
   "metadata": {},
   "outputs": [],
   "source": [
    "import pandas as pd\n",
    "import numpy as np\n",
    "import matplotlib.pyplot as plt\n",
    "import seaborn as sns\n",
    "\n",
    "sns.set_theme()\n",
    "sns.set_context('talk')"
   ]
  },
  {
   "cell_type": "markdown",
   "id": "4a635af3",
   "metadata": {},
   "source": [
    "# Il Campione"
   ]
  },
  {
   "cell_type": "markdown",
   "id": "80af0c48",
   "metadata": {},
   "source": [
    "## La Popolazione"
   ]
  },
  {
   "cell_type": "markdown",
   "id": "f8b99e88",
   "metadata": {},
   "source": [
    "La popolazione è l'insieme degli entità di interesse."
   ]
  },
  {
   "cell_type": "markdown",
   "id": "066c9fe8",
   "metadata": {},
   "source": [
    "## Il Campione"
   ]
  },
  {
   "cell_type": "markdown",
   "id": "5d241cac",
   "metadata": {},
   "source": [
    "Il campione è un sottoinsieme di dimensioni maneggevoli della popolazione."
   ]
  },
  {
   "cell_type": "code",
   "execution_count": null,
   "id": "43d246f0",
   "metadata": {},
   "outputs": [],
   "source": [
    "df = pd.read_csv('../datasets/voti_classi.csv', sep=';')"
   ]
  },
  {
   "cell_type": "markdown",
   "id": "1b942d12",
   "metadata": {},
   "source": [
    "### Come scegliere il campione?"
   ]
  },
  {
   "cell_type": "markdown",
   "id": "de28b8c3",
   "metadata": {},
   "source": [
    "Prendiamo in considerazione nuovamente la situazine precedente.\n",
    "\n",
    "Ha senso scegliere come campione 5 valuatazioni in modo casuale?"
   ]
  },
  {
   "cell_type": "code",
   "execution_count": null,
   "id": "5e44e420",
   "metadata": {},
   "outputs": [],
   "source": [
    "sample = df.sample(5)\n",
    "sample"
   ]
  },
  {
   "cell_type": "code",
   "execution_count": null,
   "id": "4ffa5a34",
   "metadata": {},
   "outputs": [],
   "source": [
    "list_sample = sample['Voto'].to_list()\n",
    "list_sample"
   ]
  },
  {
   "cell_type": "code",
   "execution_count": null,
   "id": "db0a8d71",
   "metadata": {},
   "outputs": [],
   "source": [
    "sum(list_sample)"
   ]
  },
  {
   "cell_type": "code",
   "execution_count": null,
   "id": "b2b424e9",
   "metadata": {},
   "outputs": [],
   "source": [
    "plt.figure(figsize=(16, 9))\n",
    "sns.countplot(data=sample, x='Voto')\n",
    "plt.show()"
   ]
  },
  {
   "cell_type": "markdown",
   "id": "1e834332",
   "metadata": {},
   "source": [
    "Potrebbe essere più utile specificare dei criteri con cui selezionare il campione. Si può ad esempio pensare di creare due campioni: uno per i voti di matematica, l'altro per i voti di italiano."
   ]
  },
  {
   "cell_type": "code",
   "execution_count": null,
   "id": "a60dff4d",
   "metadata": {},
   "outputs": [],
   "source": [
    "math_sample = df.loc[df['Materia'] == 'Matematica']\n",
    "math_sample"
   ]
  },
  {
   "cell_type": "code",
   "execution_count": null,
   "id": "aa9b15f0",
   "metadata": {},
   "outputs": [],
   "source": [
    "italian_sample = df.loc[df['Materia'] == 'Italiano']\n",
    "italian_sample"
   ]
  },
  {
   "cell_type": "code",
   "execution_count": null,
   "id": "f39754c5",
   "metadata": {
    "scrolled": true
   },
   "outputs": [],
   "source": [
    "math_list_sample = math_sample['Voto'].to_list()\n",
    "print(math_list_sample)"
   ]
  },
  {
   "cell_type": "code",
   "execution_count": null,
   "id": "aae97a66",
   "metadata": {},
   "outputs": [],
   "source": [
    "italian_list_sample = italian_sample['Voto'].to_list()\n",
    "print(italian_list_sample)"
   ]
  },
  {
   "cell_type": "code",
   "execution_count": null,
   "id": "429fa506",
   "metadata": {},
   "outputs": [],
   "source": [
    "sum_math = sum(math_list_sample)\n",
    "sum_italian = sum(italian_list_sample)\n",
    "print(sum_math, sum_italian)"
   ]
  },
  {
   "cell_type": "code",
   "execution_count": null,
   "id": "f4e145fe",
   "metadata": {},
   "outputs": [],
   "source": [
    "plt.figure(figsize=(16, 9))\n",
    "sns.countplot(data=df, x='Voto', hue='Materia')\n",
    "plt.show()"
   ]
  },
  {
   "cell_type": "markdown",
   "id": "3a7ded35",
   "metadata": {},
   "source": [
    "Oppure potremmo volere confrontare le singole verifiche di matematica. (Per questo caso si produce soltanto la valutazione qualitativa con un grafico)."
   ]
  },
  {
   "cell_type": "code",
   "execution_count": null,
   "id": "92e3cae5",
   "metadata": {
    "scrolled": false
   },
   "outputs": [],
   "source": [
    "plt.figure(figsize=(16, 9))\n",
    "sns.countplot(data=math_sample, x='Voto', hue='Argomento')\n",
    "plt.show()"
   ]
  },
  {
   "cell_type": "code",
   "execution_count": null,
   "id": "cc45ecae",
   "metadata": {},
   "outputs": [],
   "source": []
  }
 ],
 "metadata": {
  "kernelspec": {
   "display_name": "Python 3 (ipykernel)",
   "language": "python",
   "name": "python3"
  },
  "language_info": {
   "codemirror_mode": {
    "name": "ipython",
    "version": 3
   },
   "file_extension": ".py",
   "mimetype": "text/x-python",
   "name": "python",
   "nbconvert_exporter": "python",
   "pygments_lexer": "ipython3",
   "version": "3.9.7"
  }
 },
 "nbformat": 4,
 "nbformat_minor": 5
}
