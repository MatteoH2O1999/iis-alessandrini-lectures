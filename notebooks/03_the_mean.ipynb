{
 "cells": [
  {
   "cell_type": "markdown",
   "id": "05a203e5",
   "metadata": {},
   "source": [
    "*Se stai utilizzando Google Colab, esegui le celle sottostanti per inizializzare la macchina.*"
   ]
  },
  {
   "cell_type": "code",
   "execution_count": null,
   "id": "4c575a6e",
   "metadata": {},
   "outputs": [],
   "source": [
    "!git clone https://github.com/MatteoH2O1999/iis-alessandrini-lectures.git\n",
    "!pip install -r ./iis-alessandrini-lectures/requirements.txt\n",
    "%cd ./iis-alessandrini-lectures/notebooks"
   ]
  },
  {
   "cell_type": "code",
   "execution_count": null,
   "id": "11ecb643",
   "metadata": {},
   "outputs": [],
   "source": [
    "import pandas as pd\n",
    "import numpy as np\n",
    "import matplotlib.pyplot as plt\n",
    "import seaborn as sns\n",
    "\n",
    "sns.set_theme()\n",
    "sns.set_context('talk')"
   ]
  },
  {
   "cell_type": "markdown",
   "id": "ee5c1203",
   "metadata": {},
   "source": [
    "# La Media"
   ]
  },
  {
   "cell_type": "markdown",
   "id": "feabc311",
   "metadata": {},
   "source": [
    "La media è un primo indice numerico utile per la statistica descrittiva.\n",
    "Dato un campione composto da valori $x1, x2, ..., x_n$, la media si calcola:\n",
    "$$\\bar{x} = \\frac{\\sum_{i=1}^{n}x_i}{n}$$"
   ]
  },
  {
   "cell_type": "code",
   "execution_count": null,
   "id": "3efbc997",
   "metadata": {},
   "outputs": [],
   "source": [
    "df = pd.read_csv('../datasets/driving_license.csv', sep=';')"
   ]
  },
  {
   "cell_type": "code",
   "execution_count": null,
   "id": "40f8ae7d",
   "metadata": {},
   "outputs": [],
   "source": [
    "df.head()"
   ]
  },
  {
   "cell_type": "markdown",
   "id": "458d34ae",
   "metadata": {},
   "source": [
    "Una prima analisi potrebbe essere capire quanto ci si mette, in media, a prendere la patente."
   ]
  },
  {
   "cell_type": "code",
   "execution_count": null,
   "id": "b36e4db9",
   "metadata": {},
   "outputs": [],
   "source": [
    "time_list = df['Tempo per prendere la patente in giorni'].to_list()\n",
    "print(time_list)"
   ]
  },
  {
   "cell_type": "code",
   "execution_count": null,
   "id": "5e242a94",
   "metadata": {},
   "outputs": [],
   "source": [
    "mean_time = np.mean(time_list)\n",
    "mean_time"
   ]
  },
  {
   "cell_type": "code",
   "execution_count": null,
   "id": "3772341f",
   "metadata": {},
   "outputs": [],
   "source": [
    "plt.figure(figsize=(16, 9))\n",
    "sns.histplot(data=df, x='Tempo per prendere la patente in giorni')\n",
    "plt.show()"
   ]
  },
  {
   "cell_type": "markdown",
   "id": "5211c011",
   "metadata": {},
   "source": [
    "Il tutto è ragionevole. Proviamo ora ad aggiungere una rilevazione al campione:"
   ]
  },
  {
   "cell_type": "code",
   "execution_count": null,
   "id": "bf2beea9",
   "metadata": {},
   "outputs": [],
   "source": [
    "new_df = df.copy()"
   ]
  },
  {
   "cell_type": "code",
   "execution_count": null,
   "id": "c0901ac6",
   "metadata": {},
   "outputs": [],
   "source": [
    "new_df.loc[len(new_df.index)] = {'Studente': 'Guido La Vespa',\n",
    "                                 'Sesso': 'M',\n",
    "                                 'Età': 67,\n",
    "                                 'Tempo per prendere la patente in giorni': 14098}"
   ]
  },
  {
   "cell_type": "code",
   "execution_count": null,
   "id": "6ce7043e",
   "metadata": {},
   "outputs": [],
   "source": [
    "new_df"
   ]
  },
  {
   "cell_type": "markdown",
   "id": "c5c01e16",
   "metadata": {},
   "source": [
    "Se calcoliamo nuovamente la media otteniamo:"
   ]
  },
  {
   "cell_type": "code",
   "execution_count": null,
   "id": "dcbf201a",
   "metadata": {},
   "outputs": [],
   "source": [
    "new_time_list = new_df['Tempo per prendere la patente in giorni'].to_list()\n",
    "print(new_time_list)"
   ]
  },
  {
   "cell_type": "code",
   "execution_count": null,
   "id": "a4c55adf",
   "metadata": {},
   "outputs": [],
   "source": [
    "new_mean_time = np.mean(new_time_list)\n",
    "new_mean_time"
   ]
  },
  {
   "cell_type": "code",
   "execution_count": null,
   "id": "930a7707",
   "metadata": {},
   "outputs": [],
   "source": [
    "new_mean_time - mean_time"
   ]
  },
  {
   "cell_type": "code",
   "execution_count": null,
   "id": "5dbb50f6",
   "metadata": {
    "scrolled": false
   },
   "outputs": [],
   "source": [
    "plt.figure(figsize=(16, 9))\n",
    "sns.histplot(data=new_df, x='Tempo per prendere la patente in giorni')\n",
    "plt.show()"
   ]
  },
  {
   "cell_type": "markdown",
   "id": "4852f839",
   "metadata": {},
   "source": [
    "Proviamo a confrontare gli istogrammi utilizzando gli stessi intervalli"
   ]
  },
  {
   "cell_type": "code",
   "execution_count": null,
   "id": "f174f4f8",
   "metadata": {},
   "outputs": [],
   "source": [
    "bins = np.arange(0, 430, 30)\n",
    "bins"
   ]
  },
  {
   "cell_type": "code",
   "execution_count": null,
   "id": "bac374eb",
   "metadata": {
    "scrolled": false
   },
   "outputs": [],
   "source": [
    "_, axes = plt.subplots(1, 2, figsize=(16, 9), sharey=True)\n",
    "\n",
    "sns.histplot(ax=axes[0], data=new_df, x='Tempo per prendere la patente in giorni', bins=bins)\n",
    "axes[0].set_xlim(0, 400)\n",
    "axes[0].set_title('Istogramma con Guido')\n",
    "\n",
    "sns.histplot(ax=axes[1], data=df, x='Tempo per prendere la patente in giorni', bins=bins)\n",
    "axes[1].set_xlim(0, 400)\n",
    "axes[1].set_title('Istogramma senza Guido')\n",
    "\n",
    "plt.show()"
   ]
  },
  {
   "cell_type": "markdown",
   "id": "52f06a9c",
   "metadata": {},
   "source": [
    "## Problema: Outliers"
   ]
  },
  {
   "cell_type": "markdown",
   "id": "45bbde66",
   "metadata": {},
   "source": [
    "Un *outlier* è una misurazione fuori scala rispetto alle altre. Questa misurazione anomala può essere dovuta a un errore nel processo di misurazione, a una corruzione dei dati o può essere semplicemente un valore reale ma fuori scala.\n",
    "\n",
    "Per ovviare al problema si potrebbe ricorrere ad una soglia (*threshold*) oltre la quale le misurazioni vengono ignorate."
   ]
  },
  {
   "cell_type": "code",
   "execution_count": null,
   "id": "07ad01b6",
   "metadata": {},
   "outputs": [],
   "source": [
    "new_df = new_df.loc[new_df['Tempo per prendere la patente in giorni'] < 2000]"
   ]
  },
  {
   "cell_type": "code",
   "execution_count": null,
   "id": "e1dd6b77",
   "metadata": {},
   "outputs": [],
   "source": [
    "updated_time_list = new_df['Tempo per prendere la patente in giorni'].to_list()\n",
    "print(updated_time_list)"
   ]
  },
  {
   "cell_type": "code",
   "execution_count": null,
   "id": "18a9a6de",
   "metadata": {},
   "outputs": [],
   "source": [
    "updated_mean_time = np.mean(updated_time_list)\n",
    "updated_mean_time"
   ]
  },
  {
   "cell_type": "code",
   "execution_count": null,
   "id": "51a0e268",
   "metadata": {},
   "outputs": [],
   "source": [
    "updated_mean_time - mean_time"
   ]
  },
  {
   "cell_type": "code",
   "execution_count": null,
   "id": "b79ff90e",
   "metadata": {},
   "outputs": [],
   "source": [
    "plt.figure(figsize=(16, 9))\n",
    "sns.histplot(data=new_df, x='Tempo per prendere la patente in giorni')\n",
    "plt.show()"
   ]
  },
  {
   "cell_type": "markdown",
   "id": "83665494",
   "metadata": {},
   "source": [
    "Svantaggio: richiede conoscenza dei dati, cosa non sempre disponibile. Si vorrebbe utilizzare un nuovo indice robusto agli outliers: la mediana."
   ]
  }
 ],
 "metadata": {
  "kernelspec": {
   "display_name": "Python 3 (ipykernel)",
   "language": "python",
   "name": "python3"
  },
  "language_info": {
   "codemirror_mode": {
    "name": "ipython",
    "version": 3
   },
   "file_extension": ".py",
   "mimetype": "text/x-python",
   "name": "python",
   "nbconvert_exporter": "python",
   "pygments_lexer": "ipython3",
   "version": "3.10.4"
  }
 },
 "nbformat": 4,
 "nbformat_minor": 5
}
