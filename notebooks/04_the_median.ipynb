{
 "cells": [
  {
   "cell_type": "markdown",
   "id": "3c1aa0b8",
   "metadata": {},
   "source": [
    "*Se stai utilizzando Google Colab, esegui le celle sottostanti per inizializzare la macchina.*"
   ]
  },
  {
   "cell_type": "code",
   "execution_count": null,
   "id": "108fdc7a",
   "metadata": {},
   "outputs": [],
   "source": [
    "!git clone https://github.com/MatteoH2O1999/iis-alessandrini-lectures.git\n",
    "!pip install -r ./iis-alessandrini-lectures/requirements.txt\n",
    "%cd ./iis-alessandrini-lectures/notebooks"
   ]
  },
  {
   "cell_type": "code",
   "execution_count": null,
   "id": "93596e3c",
   "metadata": {},
   "outputs": [],
   "source": [
    "import pandas as pd\n",
    "import numpy as np\n",
    "import matplotlib.pyplot as plt\n",
    "import seaborn as sns\n",
    "\n",
    "sns.set_theme()\n",
    "sns.set_context('talk')"
   ]
  },
  {
   "cell_type": "markdown",
   "id": "9436e9ff",
   "metadata": {},
   "source": [
    "# La Mediana"
   ]
  },
  {
   "cell_type": "markdown",
   "id": "fd888008",
   "metadata": {},
   "source": [
    "Riprendiamo il dataset utilizzato precedentemente."
   ]
  },
  {
   "cell_type": "code",
   "execution_count": null,
   "id": "f5d528a2",
   "metadata": {},
   "outputs": [],
   "source": [
    "df = pd.read_csv('../datasets/driving_license.csv', sep=';')"
   ]
  },
  {
   "cell_type": "code",
   "execution_count": null,
   "id": "48e26c1d",
   "metadata": {},
   "outputs": [],
   "source": [
    "df"
   ]
  },
  {
   "cell_type": "markdown",
   "id": "56283a2e",
   "metadata": {},
   "source": [
    "Aggiungiamo ora nuovamente la rilevazione di Guido."
   ]
  },
  {
   "cell_type": "code",
   "execution_count": null,
   "id": "75b59891",
   "metadata": {},
   "outputs": [],
   "source": [
    "df.loc[len(df.index)] = {'Studente': 'Guido La Vespa',\n",
    "                         'Sesso': 'M',\n",
    "                         'Età': 67,\n",
    "                         'Tempo per prendere la patente in giorni': 14098}"
   ]
  },
  {
   "cell_type": "code",
   "execution_count": null,
   "id": "8c513dc9",
   "metadata": {},
   "outputs": [],
   "source": [
    "df"
   ]
  },
  {
   "cell_type": "code",
   "execution_count": null,
   "id": "4d15c9ff",
   "metadata": {},
   "outputs": [],
   "source": []
  }
 ],
 "metadata": {
  "kernelspec": {
   "display_name": "Python 3 (ipykernel)",
   "language": "python",
   "name": "python3"
  },
  "language_info": {
   "codemirror_mode": {
    "name": "ipython",
    "version": 3
   },
   "file_extension": ".py",
   "mimetype": "text/x-python",
   "name": "python",
   "nbconvert_exporter": "python",
   "pygments_lexer": "ipython3",
   "version": "3.10.4"
  }
 },
 "nbformat": 4,
 "nbformat_minor": 5
}
