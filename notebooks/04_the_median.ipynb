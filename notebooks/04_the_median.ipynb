{
 "cells": [
  {
   "cell_type": "markdown",
   "id": "3c1aa0b8",
   "metadata": {},
   "source": [
    "*Se stai utilizzando Google Colab, esegui le celle sottostanti per inizializzare la macchina.*"
   ]
  },
  {
   "cell_type": "code",
   "execution_count": null,
   "id": "108fdc7a",
   "metadata": {},
   "outputs": [],
   "source": [
    "!git clone https://github.com/MatteoH2O1999/iis-alessandrini-lectures.git\n",
    "!pip install -r ./iis-alessandrini-lectures/requirements.txt\n",
    "%cd ./iis-alessandrini-lectures/notebooks"
   ]
  },
  {
   "cell_type": "code",
   "execution_count": null,
   "id": "93596e3c",
   "metadata": {},
   "outputs": [],
   "source": [
    "import pandas as pd\n",
    "import numpy as np\n",
    "import matplotlib.pyplot as plt\n",
    "import seaborn as sns\n",
    "\n",
    "sns.set_theme()\n",
    "sns.set_context('talk')"
   ]
  },
  {
   "cell_type": "markdown",
   "id": "9436e9ff",
   "metadata": {},
   "source": [
    "# La Mediana"
   ]
  },
  {
   "cell_type": "markdown",
   "id": "fd888008",
   "metadata": {},
   "source": [
    "Riprendiamo il dataset utilizzato precedentemente."
   ]
  },
  {
   "cell_type": "code",
   "execution_count": null,
   "id": "f5d528a2",
   "metadata": {},
   "outputs": [],
   "source": [
    "df = pd.read_csv('../datasets/driving_license.csv', sep=';')"
   ]
  },
  {
   "cell_type": "code",
   "execution_count": null,
   "id": "48e26c1d",
   "metadata": {},
   "outputs": [],
   "source": [
    "df"
   ]
  },
  {
   "cell_type": "markdown",
   "id": "56283a2e",
   "metadata": {},
   "source": [
    "Aggiungiamo ora nuovamente la rilevazione di Guido."
   ]
  },
  {
   "cell_type": "code",
   "execution_count": null,
   "id": "75b59891",
   "metadata": {},
   "outputs": [],
   "source": [
    "new_df = df.copy()\n",
    "new_df.loc[len(new_df.index)] = {'Studente': 'Guido La Vespa',\n",
    "                                 'Sesso': 'M',\n",
    "                                 'Età': 67,\n",
    "                                 'Tempo per prendere la patente in giorni': 14098}"
   ]
  },
  {
   "cell_type": "code",
   "execution_count": null,
   "id": "8c513dc9",
   "metadata": {},
   "outputs": [],
   "source": [
    "new_df"
   ]
  },
  {
   "cell_type": "markdown",
   "id": "7716347b",
   "metadata": {},
   "source": [
    "Ricordiamo che la media viene fortemente influenzata dagli outliers."
   ]
  },
  {
   "cell_type": "code",
   "execution_count": null,
   "id": "fc98fa3d",
   "metadata": {},
   "outputs": [],
   "source": [
    "mean_time_list = df['Tempo per prendere la patente in giorni'].to_list()\n",
    "np.mean(mean_time_list)"
   ]
  },
  {
   "cell_type": "code",
   "execution_count": null,
   "id": "982fdafa",
   "metadata": {},
   "outputs": [],
   "source": [
    "new_mean_time_list = new_df['Tempo per prendere la patente in giorni'].to_list()\n",
    "np.mean(new_mean_time_list)"
   ]
  },
  {
   "cell_type": "code",
   "execution_count": null,
   "id": "b5073a52",
   "metadata": {},
   "outputs": [],
   "source": [
    "np.mean(new_mean_time_list) - np.mean(mean_time_list)"
   ]
  },
  {
   "cell_type": "markdown",
   "id": "f0e41a96",
   "metadata": {},
   "source": [
    "Come si può evitare di farsi influenzare da pochi valori fuori scala?"
   ]
  },
  {
   "cell_type": "code",
   "execution_count": null,
   "id": "2df4ce1b",
   "metadata": {},
   "outputs": [],
   "source": [
    "mean_time_list.sort()\n",
    "print(mean_time_list)"
   ]
  },
  {
   "cell_type": "code",
   "execution_count": null,
   "id": "60296ca8",
   "metadata": {},
   "outputs": [],
   "source": [
    "new_mean_time_list.sort()\n",
    "print(new_mean_time_list)"
   ]
  },
  {
   "cell_type": "code",
   "execution_count": null,
   "id": "5d4c471f",
   "metadata": {},
   "outputs": [],
   "source": [
    "for i in range(len(mean_time_list)):\n",
    "    if mean_time_list[i] > np.mean(mean_time_list):\n",
    "        mean_index = i\n",
    "        break\n",
    "        \n",
    "mean_index"
   ]
  },
  {
   "cell_type": "code",
   "execution_count": null,
   "id": "5c0e3f98",
   "metadata": {},
   "outputs": [],
   "source": [
    "for i in range(len(new_mean_time_list)):\n",
    "    if new_mean_time_list[i] > np.mean(new_mean_time_list):\n",
    "        new_mean_index = i\n",
    "        break\n",
    "        \n",
    "new_mean_index"
   ]
  },
  {
   "cell_type": "code",
   "execution_count": null,
   "id": "44dfcbee",
   "metadata": {},
   "outputs": [],
   "source": [
    "new_mean_index - mean_index"
   ]
  },
  {
   "cell_type": "markdown",
   "id": "189237db",
   "metadata": {},
   "source": [
    "La media si è spostata di 72 posizioni. Proviamo con una misurazione meno fuori scala:"
   ]
  },
  {
   "cell_type": "code",
   "execution_count": null,
   "id": "428923e1",
   "metadata": {},
   "outputs": [],
   "source": [
    "other_df = df.copy()\n",
    "other_df.loc[len(other_df.index)] = {'Studente': 'Guido Meglio La Vespa',\n",
    "                                     'Sesso': 'M',\n",
    "                                     'Età': 67,\n",
    "                                     'Tempo per prendere la patente in giorni': 2000}"
   ]
  },
  {
   "cell_type": "code",
   "execution_count": null,
   "id": "b2210ec1",
   "metadata": {},
   "outputs": [],
   "source": [
    "other_df"
   ]
  },
  {
   "cell_type": "code",
   "execution_count": null,
   "id": "8b0b8128",
   "metadata": {},
   "outputs": [],
   "source": [
    "other_mean_time_list = other_df['Tempo per prendere la patente in giorni'].to_list()\n",
    "print(other_mean_time_list)"
   ]
  },
  {
   "cell_type": "code",
   "execution_count": null,
   "id": "14738cf8",
   "metadata": {},
   "outputs": [],
   "source": [
    "np.mean(other_mean_time_list) - np.mean(mean_time_list)"
   ]
  },
  {
   "cell_type": "code",
   "execution_count": null,
   "id": "d458e43f",
   "metadata": {},
   "outputs": [],
   "source": [
    "other_mean_time_list.sort()\n",
    "print(other_mean_time_list)"
   ]
  },
  {
   "cell_type": "code",
   "execution_count": null,
   "id": "99ee2c6b",
   "metadata": {},
   "outputs": [],
   "source": [
    "for i in range(len(other_mean_time_list)):\n",
    "    if other_mean_time_list[i] > np.mean(other_mean_time_list):\n",
    "        other_mean_index = i\n",
    "        break\n",
    "        \n",
    "other_mean_index"
   ]
  },
  {
   "cell_type": "code",
   "execution_count": null,
   "id": "3084d660",
   "metadata": {},
   "outputs": [],
   "source": [
    "other_mean_index - mean_index"
   ]
  },
  {
   "cell_type": "markdown",
   "id": "ee5251e2",
   "metadata": {},
   "source": [
    "In questo caso la media si è spostata di solo 9 posizioni. Nonostante sia stata aggiunta sempre una sola misurazione, lo spostamento nel primo caso è stato molto maggiore."
   ]
  },
  {
   "cell_type": "markdown",
   "id": "37939620",
   "metadata": {},
   "source": [
    "Questo perché la media può essere vista a tutti gli effetti come il baricentro delle misurazioni, ed in quanto baricentro, per mantenere l'equilibrio deve compiere spostamenti tanto più grandi quanto è il peso aggiunto a una delle due parti."
   ]
  },
  {
   "cell_type": "markdown",
   "id": "55809aae",
   "metadata": {},
   "source": [
    "Il nostro obiettivo è trovare una metrica che non si sposti se si aggiungono poche misure fuori scala."
   ]
  },
  {
   "cell_type": "markdown",
   "id": "37ef913c",
   "metadata": {},
   "source": [
    "Proprio a questo serve la mediana. Per calcolarla si ordinano le rilevazioni in ordine crescente e si sceglie come mediana il valore che si trova in mezzo."
   ]
  },
  {
   "cell_type": "code",
   "execution_count": null,
   "id": "5156d0fa",
   "metadata": {},
   "outputs": [],
   "source": [
    "odd_list = [3, 6, 2, 3, 1]"
   ]
  },
  {
   "cell_type": "code",
   "execution_count": null,
   "id": "65b05963",
   "metadata": {},
   "outputs": [],
   "source": [
    "odd_list.sort()\n",
    "print(odd_list)"
   ]
  },
  {
   "cell_type": "code",
   "execution_count": null,
   "id": "caef08e6",
   "metadata": {},
   "outputs": [],
   "source": [
    "np.median(odd_list)"
   ]
  },
  {
   "cell_type": "markdown",
   "id": "635c2074",
   "metadata": {},
   "source": [
    "E nel caso pari? Prende la media dei due valori centrali"
   ]
  },
  {
   "cell_type": "code",
   "execution_count": null,
   "id": "25b76341",
   "metadata": {},
   "outputs": [],
   "source": [
    "even_list = odd_list + [0]"
   ]
  },
  {
   "cell_type": "code",
   "execution_count": null,
   "id": "7b9c12b3",
   "metadata": {},
   "outputs": [],
   "source": [
    "even_list.sort()\n",
    "print(even_list)"
   ]
  },
  {
   "cell_type": "code",
   "execution_count": null,
   "id": "3460f1a5",
   "metadata": {},
   "outputs": [],
   "source": [
    "np.median(even_list)"
   ]
  },
  {
   "cell_type": "markdown",
   "id": "1302203b",
   "metadata": {},
   "source": [
    "Vediamo ora questa nuova metrica con il dataset precedente:"
   ]
  },
  {
   "cell_type": "code",
   "execution_count": null,
   "id": "6efdb32f",
   "metadata": {},
   "outputs": [],
   "source": [
    "np.median(mean_time_list)"
   ]
  },
  {
   "cell_type": "code",
   "execution_count": null,
   "id": "e24bda17",
   "metadata": {},
   "outputs": [],
   "source": [
    "np.median(new_mean_time_list)"
   ]
  },
  {
   "cell_type": "code",
   "execution_count": null,
   "id": "152bff0a",
   "metadata": {},
   "outputs": [],
   "source": [
    "np.median(other_mean_time_list)"
   ]
  },
  {
   "cell_type": "code",
   "execution_count": null,
   "id": "1c463a58",
   "metadata": {},
   "outputs": [],
   "source": [
    "np.median(new_mean_time_list) - np.median(mean_time_list)"
   ]
  },
  {
   "cell_type": "markdown",
   "id": "e09c67e5",
   "metadata": {},
   "source": [
    "E di quanto si è spostata la mediana?"
   ]
  },
  {
   "cell_type": "code",
   "execution_count": null,
   "id": "7684f1c1",
   "metadata": {},
   "outputs": [],
   "source": [
    "for i in range(len(mean_time_list)):\n",
    "    if mean_time_list[i] > np.median(mean_time_list):\n",
    "        median_index = i\n",
    "        break\n",
    "        \n",
    "median_index"
   ]
  },
  {
   "cell_type": "code",
   "execution_count": null,
   "id": "282f2283",
   "metadata": {},
   "outputs": [],
   "source": [
    "for i in range(len(new_mean_time_list)):\n",
    "    if new_mean_time_list[i] > np.median(new_mean_time_list):\n",
    "        new_median_index = i\n",
    "        break\n",
    "        \n",
    "new_median_index"
   ]
  },
  {
   "cell_type": "code",
   "execution_count": null,
   "id": "6c789c83",
   "metadata": {},
   "outputs": [],
   "source": [
    "for i in range(len(other_mean_time_list)):\n",
    "    if other_mean_time_list[i] > np.median(other_mean_time_list):\n",
    "        other_median_index = i\n",
    "        break\n",
    "        \n",
    "other_median_index"
   ]
  },
  {
   "cell_type": "markdown",
   "id": "34b9013c",
   "metadata": {},
   "source": [
    "Come si nota, la mediana è estremamente stabile."
   ]
  },
  {
   "cell_type": "markdown",
   "id": "96f77fc4",
   "metadata": {},
   "source": [
    "Come si comporta confrontata con la media?"
   ]
  },
  {
   "cell_type": "code",
   "execution_count": null,
   "id": "8fa229bb",
   "metadata": {},
   "outputs": [],
   "source": [
    "print(np.mean(mean_time_list), np.median(mean_time_list))"
   ]
  },
  {
   "cell_type": "code",
   "execution_count": null,
   "id": "3cca4a3e",
   "metadata": {},
   "outputs": [],
   "source": [
    "print(np.mean(new_mean_time_list), np.median(new_mean_time_list))"
   ]
  },
  {
   "cell_type": "code",
   "execution_count": null,
   "id": "6eb0c002",
   "metadata": {},
   "outputs": [],
   "source": [
    "print(np.mean(other_mean_time_list), np.median(other_mean_time_list))"
   ]
  },
  {
   "cell_type": "markdown",
   "id": "2cb7fd32",
   "metadata": {},
   "source": [
    "La differenza tra mediana e media può essere anche un indicatore della presenza di valori fuori scala: tanto è maggiore la differenza, tanto è proabile che nel dataset ci siano presenti valori fuori scala:"
   ]
  },
  {
   "cell_type": "code",
   "execution_count": null,
   "id": "42715b55",
   "metadata": {},
   "outputs": [],
   "source": [
    "np.abs(np.mean(mean_time_list) - np.median(mean_time_list))"
   ]
  },
  {
   "cell_type": "code",
   "execution_count": null,
   "id": "10cb8dc4",
   "metadata": {},
   "outputs": [],
   "source": [
    "np.abs(np.mean(new_mean_time_list) - np.median(new_mean_time_list))"
   ]
  },
  {
   "cell_type": "code",
   "execution_count": null,
   "id": "b8c7b6e8",
   "metadata": {},
   "outputs": [],
   "source": [
    "np.abs(np.mean(other_mean_time_list) - np.median(other_mean_time_list))"
   ]
  }
 ],
 "metadata": {
  "kernelspec": {
   "display_name": "Python 3 (ipykernel)",
   "language": "python",
   "name": "python3"
  },
  "language_info": {
   "codemirror_mode": {
    "name": "ipython",
    "version": 3
   },
   "file_extension": ".py",
   "mimetype": "text/x-python",
   "name": "python",
   "nbconvert_exporter": "python",
   "pygments_lexer": "ipython3",
   "version": "3.10.4"
  }
 },
 "nbformat": 4,
 "nbformat_minor": 5
}
