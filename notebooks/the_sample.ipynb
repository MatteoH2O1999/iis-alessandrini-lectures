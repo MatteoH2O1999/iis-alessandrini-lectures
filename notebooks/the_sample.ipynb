{
 "cells": [
  {
   "cell_type": "markdown",
   "id": "9378fe4c",
   "metadata": {},
   "source": [
    "*Esegui la cella sottostante per inizializzare la macchina.*"
   ]
  },
  {
   "cell_type": "code",
   "execution_count": null,
   "id": "4d84a5c8",
   "metadata": {},
   "outputs": [],
   "source": [
    "!git clone https://github.com/MatteoH2O1999/iis-alessandrini-lectures.git\n",
    "cd notebooks"
   ]
  },
  {
   "cell_type": "markdown",
   "id": "4a635af3",
   "metadata": {},
   "source": [
    "# Il Campione"
   ]
  },
  {
   "cell_type": "code",
   "execution_count": null,
   "id": "0b35ba19",
   "metadata": {},
   "outputs": [],
   "source": []
  }
 ],
 "metadata": {
  "kernelspec": {
   "display_name": "Python 3 (ipykernel)",
   "language": "python",
   "name": "python3"
  },
  "language_info": {
   "codemirror_mode": {
    "name": "ipython",
    "version": 3
   },
   "file_extension": ".py",
   "mimetype": "text/x-python",
   "name": "python",
   "nbconvert_exporter": "python",
   "pygments_lexer": "ipython3",
   "version": "3.9.7"
  }
 },
 "nbformat": 4,
 "nbformat_minor": 5
}
